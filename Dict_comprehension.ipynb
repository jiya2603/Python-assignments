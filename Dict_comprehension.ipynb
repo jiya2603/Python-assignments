{
 "cells": [
  {
   "cell_type": "code",
   "execution_count": 3,
   "id": "e2d214f8-1253-4de5-9f85-5543ff34871a",
   "metadata": {},
   "outputs": [
    {
     "data": {
      "text/plain": [
       "{0: 0, 1: 1, 2: 4, 3: 9, 4: 16}"
      ]
     },
     "execution_count": 3,
     "metadata": {},
     "output_type": "execute_result"
    }
   ],
   "source": [
    "squares_dict = {x: x**2 for x in range(5)}\n",
    "print(squares_dict)"
   ]
  },
  {
   "cell_type": "markdown",
   "id": "e6804265-9ef0-4221-93af-a231950bcbaa",
   "metadata": {},
   "source": [
    "Filtering items in dictionary\n"
   ]
  },
  {
   "cell_type": "code",
   "execution_count": 6,
   "id": "e316ab38-3059-46e4-ad0c-cdf7ccca2301",
   "metadata": {},
   "outputs": [
    {
     "name": "stdout",
     "output_type": "stream",
     "text": [
      "{'apple': 5, 'banana': 6, 'cherry': 6}\n"
     ]
    }
   ],
   "source": [
    "fruits = {'apple','banana','cherry'}\n",
    "fruit_dict = {fruit: len(fruit) for fruit in fruits}\n",
    "print(fruit_dict)"
   ]
  },
  {
   "cell_type": "markdown",
   "id": "c4888d03-9dc5-4dbf-92ae-2db59e234371",
   "metadata": {},
   "source": [
    "Inverting dictionary"
   ]
  },
  {
   "cell_type": "code",
   "execution_count": 9,
   "id": "50080bee-0beb-4e06-ae90-0fd85b2007f6",
   "metadata": {},
   "outputs": [
    {
     "data": {
      "text/plain": [
       "{1: 'a', 2: 'b', 3: 'c'}"
      ]
     },
     "execution_count": 9,
     "metadata": {},
     "output_type": "execute_result"
    }
   ],
   "source": [
    "original_dict = {'a':1,'b':2, 'c': 3}\n",
    "inverted_dict = {value: key for key,value in original_dict.items()}\n",
    "inverted_dict"
   ]
  },
  {
   "cell_type": "code",
   "execution_count": null,
   "id": "c8a3418e-6839-4777-bdcd-459c113d08cd",
   "metadata": {},
   "outputs": [],
   "source": []
  }
 ],
 "metadata": {
  "kernelspec": {
   "display_name": "Python 3 (ipykernel)",
   "language": "python",
   "name": "python3"
  },
  "language_info": {
   "codemirror_mode": {
    "name": "ipython",
    "version": 3
   },
   "file_extension": ".py",
   "mimetype": "text/x-python",
   "name": "python",
   "nbconvert_exporter": "python",
   "pygments_lexer": "ipython3",
   "version": "3.12.4"
  }
 },
 "nbformat": 4,
 "nbformat_minor": 5
}
