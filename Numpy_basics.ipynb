{
 "cells": [
  {
   "cell_type": "code",
   "execution_count": 1,
   "id": "52b63aac-3eb6-49b9-87e0-02bab5367c2d",
   "metadata": {},
   "outputs": [],
   "source": [
    "import numpy as np "
   ]
  },
  {
   "cell_type": "code",
   "execution_count": 3,
   "id": "dd5c1734-a7f7-4810-954b-9a2b1bfb452d",
   "metadata": {},
   "outputs": [
    {
     "name": "stdout",
     "output_type": "stream",
     "text": [
      "[1. 2. 3.]\n",
      "Data type: float64\n"
     ]
    }
   ],
   "source": [
    "arr = np.array([1, 2, 3], dtype=np.float64)\n",
    "print(arr)\n",
    "print(\"Data type:\", arr.dtype)"
   ]
  },
  {
   "cell_type": "code",
   "execution_count": 5,
   "id": "2168651d-5a41-4950-a6ff-1073c8847e11",
   "metadata": {},
   "outputs": [
    {
     "name": "stdout",
     "output_type": "stream",
     "text": [
      "Addition: [5 7 9]\n",
      "Subtraction: [-3 -3 -3]\n",
      "Multiplication: [ 4 10 18]\n",
      "Division: [0.25 0.4  0.5 ]\n"
     ]
    }
   ],
   "source": [
    "a = np.array([1, 2, 3])\n",
    "b = np.array([4, 5, 6])\n",
    "\n",
    "print(\"Addition:\", a + b)\n",
    "print(\"Subtraction:\", a - b)\n",
    "print(\"Multiplication:\", a * b)\n",
    "print(\"Division:\", a / b)"
   ]
  },
  {
   "cell_type": "code",
   "execution_count": 7,
   "id": "053ff18a-b320-4b8b-96f6-9b1e72476795",
   "metadata": {},
   "outputs": [
    {
     "name": "stdout",
     "output_type": "stream",
     "text": [
      "First Element: 10\n",
      "Last Element: 50\n",
      "First Three Elements: [10 20 30]\n",
      "Elements from Index 2 to 4: [30 40 50]\n"
     ]
    }
   ],
   "source": [
    "arr = np.array([10, 20, 30, 40, 50])\n",
    "\n",
    "# Access elements by index\n",
    "print(\"First Element:\", arr[0])\n",
    "print(\"Last Element:\", arr[-1])\n",
    "\n",
    "# Slicing\n",
    "print(\"First Three Elements:\", arr[:3])\n",
    "print(\"Elements from Index 2 to 4:\", arr[2:5])"
   ]
  },
  {
   "cell_type": "code",
   "execution_count": 9,
   "id": "60e55f65-c6d6-4bc2-93c7-489ebff20529",
   "metadata": {},
   "outputs": [
    {
     "name": "stdout",
     "output_type": "stream",
     "text": [
      "Array + 10: [11 12 13]\n"
     ]
    }
   ],
   "source": [
    "arr = np.array([1, 2, 3])\n",
    "print(\"Array + 10:\", arr + 10)"
   ]
  },
  {
   "cell_type": "code",
   "execution_count": 11,
   "id": "07d07f05-b235-4455-a167-e48aeb86a8d6",
   "metadata": {},
   "outputs": [
    {
     "name": "stdout",
     "output_type": "stream",
     "text": [
      "Element-wise Multiplication:\n",
      " [[ 5 12]\n",
      " [21 32]]\n",
      "Matrix Multiplication:\n",
      " [[19 22]\n",
      " [43 50]]\n"
     ]
    }
   ],
   "source": [
    "A = np.array([[1, 2], [3, 4]])\n",
    "B = np.array([[5, 6], [7, 8]])\n",
    "\n",
    "# Element-wise multiplication\n",
    "print(\"Element-wise Multiplication:\\n\", A * B)\n",
    "\n",
    "# Matrix multiplication (dot product)\n",
    "print(\"Matrix Multiplication:\\n\", np.dot(A, B))"
   ]
  },
  {
   "cell_type": "code",
   "execution_count": 13,
   "id": "732f3f57-f608-40a6-acf8-d15fff361f2b",
   "metadata": {},
   "outputs": [
    {
     "name": "stdout",
     "output_type": "stream",
     "text": [
      "Inverse:\n",
      " [[-2.   1. ]\n",
      " [ 1.5 -0.5]]\n"
     ]
    }
   ],
   "source": [
    "from numpy.linalg import inv\n",
    "\n",
    "A = np.array([[1, 2], [3, 4]])\n",
    "print(\"Inverse:\\n\", inv(A))"
   ]
  },
  {
   "cell_type": "code",
   "execution_count": 15,
   "id": "503018d1-ff8d-45bb-b79b-2c64e51e9f29",
   "metadata": {},
   "outputs": [
    {
     "name": "stdout",
     "output_type": "stream",
     "text": [
      "Element-wise Addition:\n",
      " [[ 6  8]\n",
      " [10 12]]\n",
      "Matrix Multiplication:\n",
      " [[19 22]\n",
      " [43 50]]\n"
     ]
    }
   ],
   "source": [
    "A = np.array([[1, 2], [3, 4]])\n",
    "B = np.array([[5, 6], [7, 8]])\n",
    "\n",
    "print(\"Element-wise Addition:\\n\", A + B)\n",
    "print(\"Matrix Multiplication:\\n\", np.dot(A, B))"
   ]
  },
  {
   "cell_type": "code",
   "execution_count": 17,
   "id": "fc270200-7c44-4b0c-a0bb-596d89f25af5",
   "metadata": {},
   "outputs": [
    {
     "name": "stdout",
     "output_type": "stream",
     "text": [
      "Original Array: [10 12 14 16 18 20]\n",
      "Modified Array: [10 12 14 -1 -1 -1]\n"
     ]
    }
   ],
   "source": [
    "import numpy as np\n",
    "\n",
    "arr = np.arange(10, 21, 2)\n",
    "print(\"Original Array:\", arr)\n",
    "\n",
    "arr[arr > 15] = -1\n",
    "print(\"Modified Array:\", arr)"
   ]
  },
  {
   "cell_type": "code",
   "execution_count": 19,
   "id": "57479909-4aa7-4e22-92ec-96467ce6d0ff",
   "metadata": {},
   "outputs": [
    {
     "name": "stdout",
     "output_type": "stream",
     "text": [
      "Identity Matrix:\n",
      " [[1. 0. 0.]\n",
      " [0. 1. 0.]\n",
      " [0. 0. 1.]]\n",
      "Random Matrix:\n",
      " [[2 5 3]\n",
      " [2 6 5]\n",
      " [6 3 4]]\n",
      "Result of Multiplication:\n",
      " [[2. 5. 3.]\n",
      " [2. 6. 5.]\n",
      " [6. 3. 4.]]\n"
     ]
    }
   ],
   "source": [
    "import numpy as np\n",
    "\n",
    "identity_matrix = np.eye(3)\n",
    "random_matrix = np.random.randint(1, 10, size=(3, 3))\n",
    "\n",
    "print(\"Identity Matrix:\\n\", identity_matrix)\n",
    "print(\"Random Matrix:\\n\", random_matrix)\n",
    "\n",
    "result = np.dot(identity_matrix, random_matrix)\n",
    "print(\"Result of Multiplication:\\n\", result)"
   ]
  },
  {
   "cell_type": "code",
   "execution_count": 21,
   "id": "1fece17d-34fe-4cfb-aa66-35fcc73cd9d3",
   "metadata": {},
   "outputs": [
    {
     "name": "stdout",
     "output_type": "stream",
     "text": [
      "Original 2D Array:\n",
      " [[1 2 3]\n",
      " [4 5 6]]\n",
      "1D Array: [10 20 30]\n",
      "Broadcasted Addition:\n",
      " [[11 22 33]\n",
      " [14 25 36]]\n"
     ]
    }
   ],
   "source": [
    "a = np.array([[1, 2, 3], [4, 5, 6]])\n",
    "b = np.array([10, 20, 30])\n",
    "\n",
    "print(\"Original 2D Array:\\n\", a)\n",
    "print(\"1D Array:\", b)\n",
    "\n",
    "result = a + b  # Broadcasting\n",
    "print(\"Broadcasted Addition:\\n\", result)"
   ]
  },
  {
   "cell_type": "code",
   "execution_count": 31,
   "id": "98d0c40f-ab51-46b9-acfe-a4b316dbca02",
   "metadata": {},
   "outputs": [
    {
     "name": "stdout",
     "output_type": "stream",
     "text": [
      "2\n"
     ]
    }
   ],
   "source": [
    "#explain np.ndim function with example\n",
    "\n",
    "arr = np.array([[10,20,30,40],[2,3,4,5]])\n",
    "print(arr.ndim) #ndim function returns the dimesnsion of the given array\n",
    "\n"
   ]
  },
  {
   "cell_type": "code",
   "execution_count": 53,
   "id": "562b3a08-5b06-4908-bfa9-0f76169c30ce",
   "metadata": {},
   "outputs": [
    {
     "name": "stdin",
     "output_type": "stream",
     "text": [
      "Enter value:  1.3\n"
     ]
    },
    {
     "name": "stdout",
     "output_type": "stream",
     "text": [
      "[ 0.          8.1681409  16.3362818  24.5044227  32.6725636  40.8407045\n",
      " 49.0088454  57.1769863  65.34512719 73.51326809]\n"
     ]
    }
   ],
   "source": [
    "#create an array of time for one hour with values of each second. This is the x value evaluate y= 2.pi .omega.x  and omega can be taken from user input\n",
    "\n",
    "pi = np.pi\n",
    "\n",
    "x = np.arange(0, 3600, 1)\n",
    "def evaluate_y(omega):\n",
    "    y = 2 * pi * omega * x\n",
    "    return y\n",
    "omega = float(input (\"Enter value: \") )\n",
    "y_values = evaluate_y(omega)\n",
    "print(y_values[:10])"
   ]
  },
  {
   "cell_type": "code",
   "execution_count": null,
   "id": "e5913b04-b39e-44ff-86f5-aea54602c232",
   "metadata": {},
   "outputs": [],
   "source": []
  }
 ],
 "metadata": {
  "kernelspec": {
   "display_name": "Python 3 (ipykernel)",
   "language": "python",
   "name": "python3"
  },
  "language_info": {
   "codemirror_mode": {
    "name": "ipython",
    "version": 3
   },
   "file_extension": ".py",
   "mimetype": "text/x-python",
   "name": "python",
   "nbconvert_exporter": "python",
   "pygments_lexer": "ipython3",
   "version": "3.12.4"
  }
 },
 "nbformat": 4,
 "nbformat_minor": 5
}
