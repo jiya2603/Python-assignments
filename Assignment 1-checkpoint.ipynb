{
 "cells": [
  {
   "cell_type": "code",
   "execution_count": 22,
   "id": "b493c499-4c27-4912-af0c-9896893923c6",
   "metadata": {},
   "outputs": [
    {
     "name": "stdin",
     "output_type": "stream",
     "text": [
      "Enter your First Name  Jiya\n",
      "Enter your Last Name  Singhal\n"
     ]
    },
    {
     "name": "stdout",
     "output_type": "stream",
     "text": [
      "Jiya Singhal\n"
     ]
    }
   ],
   "source": [
    "#taking inputs from user as first and last name\n",
    "first_name = (input(\"Enter your First Name \"))\n",
    "last_name = (input(\"Enter your Last Name \"))\n",
    "#using string methods\n",
    "#capitalize()is used for capitalizing the first letter of string\n",
    "#strip() is used for removing the trial spaces\n",
    "\n",
    "first_name = first_name.capitalize()\n",
    "last_name = last_name.capitalize()\n",
    "print(first_name +\" \"+last_name )"
   ]
  },
  {
   "cell_type": "code",
   "execution_count": 24,
   "id": "47b607fd-304a-4253-a8a6-d792eec43975",
   "metadata": {},
   "outputs": [
    {
     "name": "stdin",
     "output_type": "stream",
     "text": [
      "Enter a number: 56\n"
     ]
    },
    {
     "name": "stdout",
     "output_type": "stream",
     "text": [
      "Integer value:56\n",
      "Float value: 56.0\n",
      "Complex value :(56+0j)\n"
     ]
    }
   ],
   "source": [
    "#convert a float first to handle decimal part\n",
    "#taking inputs from user\n",
    "user_input = input(\"Enter a number:\")\n",
    "\n",
    "#converting the input to the different numeric data types\n",
    "#int() converts the input to an integer\n",
    "\n",
    "int_value = int(float(user_input))\n",
    "#convert a float first to handle decimal part\n",
    "float_value = float(user_input)\n",
    "#complex() converts the input to a complex number\n",
    "complex_value = complex(user_input)\n",
    "#displaying the converted values\n",
    "print(f\"Integer value:{int_value}\")\n",
    "print(f\"Float value: {float_value}\")\n",
    "print(f\"Complex value :{complex_value}\")"
   ]
  },
  {
   "cell_type": "code",
   "execution_count": 26,
   "id": "7df8e6ec-4c06-40b8-9bc4-2ac5fe5d9768",
   "metadata": {},
   "outputs": [
    {
     "name": "stdin",
     "output_type": "stream",
     "text": [
      " Enter the length of rectangle:  20\n",
      " Enter the breadth of rectangle:  33\n"
     ]
    },
    {
     "name": "stdout",
     "output_type": "stream",
     "text": [
      "the area of rectangle is :660\n"
     ]
    }
   ],
   "source": [
    "length=  int(input(\" Enter the length of rectangle: \"))\n",
    "breadth=  int(input(\" Enter the breadth of rectangle: \"))\n",
    "# calculating the area of rectangle\n",
    "area = length * breadth\n",
    "print (f\"the area of rectangle is :{area}\")"
   ]
  },
  {
   "cell_type": "code",
   "execution_count": 30,
   "id": "5e0c87a2-5318-4b98-8b50-d6e5dc0e8bfa",
   "metadata": {},
   "outputs": [
    {
     "name": "stdin",
     "output_type": "stream",
     "text": [
      "enter the number 23\n",
      "enter the number 29\n",
      "enter the number 33\n"
     ]
    },
    {
     "name": "stdout",
     "output_type": "stream",
     "text": [
      "the average of three numbers are: 63.0\n"
     ]
    }
   ],
   "source": [
    "#taking inputs from user\n",
    "num1= int (input(\"enter the number\"))\n",
    "num2 = int (input(\"enter the number\"))\n",
    "num3 = int(input(\"enter the number\"))\n",
    "#taking average of the number\n",
    "average= num1+num2+num3/3\n",
    "print(\"the average of three numbers are:\", average)"
   ]
  },
  {
   "cell_type": "code",
   "execution_count": 32,
   "id": "7baef7cd-814c-456e-866e-73346b1cc1ca",
   "metadata": {},
   "outputs": [
    {
     "name": "stdin",
     "output_type": "stream",
     "text": [
      "Enter a number (or type 'exit' to quit):  33\n"
     ]
    },
    {
     "name": "stdout",
     "output_type": "stream",
     "text": [
      "The number is positive.\n"
     ]
    },
    {
     "name": "stdin",
     "output_type": "stream",
     "text": [
      "Enter a number (or type 'exit' to quit):  -22\n"
     ]
    },
    {
     "name": "stdout",
     "output_type": "stream",
     "text": [
      "The number is negative.\n"
     ]
    },
    {
     "name": "stdin",
     "output_type": "stream",
     "text": [
      "Enter a number (or type 'exit' to quit):  exit\n"
     ]
    },
    {
     "name": "stdout",
     "output_type": "stream",
     "text": [
      "Exiting the program.\n"
     ]
    }
   ],
   "source": [
    "while True:\n",
    "    # Prompt the user for input\n",
    "    user_input = input(\"Enter a number (or type 'exit' to quit): \").lower()\n",
    "\n",
    "    # Check if the user wants to exit\n",
    "    if user_input == 'exit':\n",
    "        print(\"Exiting the program.\")\n",
    "        break  # Exit the loop if the input is 'exit'\n",
    "\n",
    "    try:\n",
    "        # Convert the input to a float for numeric comparison\n",
    "        number = float(user_input)\n",
    "\n",
    "        # Check if the number is positive, negative, or zero\n",
    "        if number > 0:\n",
    "            print(\"The number is positive.\")\n",
    "        elif number < 0:\n",
    "            print(\"The number is negative.\")\n",
    "        else:\n",
    "            print(\"The number is zero.\")\n",
    "    except ValueError:\n",
    "        # Handle cases where the input is not a valid number\n",
    "        print(\"Please enter a valid number.\")"
   ]
  },
  {
   "cell_type": "code",
   "execution_count": 34,
   "id": "acfdbe2d-45f9-418c-aca2-b9907dd108e4",
   "metadata": {},
   "outputs": [
    {
     "name": "stdin",
     "output_type": "stream",
     "text": [
      "Enter the first number:  44\n",
      "Enter the second number:  46\n"
     ]
    },
    {
     "name": "stdout",
     "output_type": "stream",
     "text": [
      "Both numbers are even.\n"
     ]
    }
   ],
   "source": [
    "# Taking two numbers as input from the user\n",
    "num1 = int(input(\"Enter the first number: \"))\n",
    "num2 = int(input(\"Enter the second number: \"))\n",
    "\n",
    "# Checking whether both numbers are even\n",
    "if num1 % 2 == 0 and num2 % 2 == 0:\n",
    "    print(\"Both numbers are even.\")\n",
    "# Checking whether both numbers are odd\n",
    "elif num1 % 2 != 0 and num2 % 2 != 0:\n",
    "    print(\"Both numbers are odd.\")\n",
    "# If neither of the above conditions are true, one number is even and the other is odd\n",
    "else:\n",
    "    print(\"One number is even and the other is odd.\")"
   ]
  },
  {
   "cell_type": "code",
   "execution_count": 36,
   "id": "3d2c8d3f-528b-4b59-ad31-a089c0f9c47e",
   "metadata": {},
   "outputs": [
    {
     "name": "stdin",
     "output_type": "stream",
     "text": [
      "Enter an integer:  33\n"
     ]
    },
    {
     "name": "stdout",
     "output_type": "stream",
     "text": [
      "Binary equivalent: 100001\n",
      "Octal equivalent: 41\n",
      "Hexadecimal equivalent: 21\n"
     ]
    }
   ],
   "source": [
    "# Taking an integer input from the user\n",
    "num = int(input(\"Enter an integer: \"))\n",
    "\n",
    "# Dictionary to store the conversions\n",
    "conversions = {\"Binary\": bin(num), \"Octal\": oct(num), \"Hexadecimal\": hex(num)}\n",
    "\n",
    "# For loop to iterate over the dictionary and print results\n",
    "for base, value in conversions.items():\n",
    "    print(f\"{base} equivalent: {value[2:].upper()}\")\n",
    "# Remove '0b', '0o', '0x' prefix and convert to uppercase for hex\n",
    "     "
   ]
  },
  {
   "cell_type": "code",
   "execution_count": null,
   "id": "d9f5b0e6-676e-425d-8b6f-be473d233847",
   "metadata": {},
   "outputs": [],
   "source": []
  }
 ],
 "metadata": {
  "kernelspec": {
   "display_name": "Python 3 (ipykernel)",
   "language": "python",
   "name": "python3"
  },
  "language_info": {
   "codemirror_mode": {
    "name": "ipython",
    "version": 3
   },
   "file_extension": ".py",
   "mimetype": "text/x-python",
   "name": "python",
   "nbconvert_exporter": "python",
   "pygments_lexer": "ipython3",
   "version": "3.12.4"
  }
 },
 "nbformat": 4,
 "nbformat_minor": 5
}
