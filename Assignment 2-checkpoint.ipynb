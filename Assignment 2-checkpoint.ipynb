{
 "cells": [
  {
   "cell_type": "code",
   "execution_count": 2,
   "id": "76cdf0f6-719e-48b7-aaaa-b0c22bafbbda",
   "metadata": {},
   "outputs": [
    {
     "name": "stdout",
     "output_type": "stream",
     "text": [
      "Hello Alice\n",
      "Good Morning Bob\n"
     ]
    }
   ],
   "source": [
    "def greet(name, greeting=\"Hello\"):\n",
    "    return f\"{greeting} {name}\" #format helps in specifying format of the output\n",
    "\n",
    "print(greet(\"Alice\"))\n",
    "print(greet(\"Bob\", \"Good Morning\"))"
   ]
  },
  {
   "cell_type": "code",
   "execution_count": 4,
   "id": "ecde6210-09b5-4269-bc97-61158ee54493",
   "metadata": {},
   "outputs": [
    {
     "name": "stdout",
     "output_type": "stream",
     "text": [
      "Name: John, Age: 18, City: Chicago\n",
      "Name: Emma, Age: 22, City: Los Angeles\n"
     ]
    }
   ],
   "source": [
    "def create_profile(name, city, age=18):  # Arguments\n",
    "    return f\"Name: {name}, Age: {age}, City: {city}\" \n",
    "\n",
    "print(create_profile(name=\"John\", city=\"Chicago\"))\n",
    "print(create_profile(name=\"Emma\", age=22, city=\"Los Angeles\"))"
   ]
  },
  {
   "cell_type": "code",
   "execution_count": 6,
   "id": "36347448-3012-4c97-8441-ec5039ab4eb7",
   "metadata": {},
   "outputs": [
    {
     "name": "stdout",
     "output_type": "stream",
     "text": [
      "6\n",
      "(3, {'x': 4, 'y': 5})\n"
     ]
    }
   ],
   "source": [
    "def sum_numbers(*args, **kwargs): #Takes multiple keyword arguments\n",
    "    sum_args = sum(arg for arg in args if isinstance(arg, (int, float)))\n",
    "    return (sum_args, kwargs) if kwargs else sum_args\n",
    "\n",
    "print(sum_numbers(1, 2, 3))\n",
    "print(sum_numbers(1, 2, x=4, y=5))\n"
   ]
  },
  {
   "cell_type": "code",
   "execution_count": 8,
   "id": "5497b4d8-5263-431f-b0d9-77c692d7fc11",
   "metadata": {},
   "outputs": [
    {
     "name": "stdout",
     "output_type": "stream",
     "text": [
      "[1, 4, 9, 16]\n"
     ]
    }
   ],
   "source": [
    "def square_list(numbers):\n",
    "    return list(map(lambda x: x**2, numbers)) #Lmabda func is used to reduce code and faster execution\n",
    "\n",
    "print(square_list([1, 2, 3, 4]))\n"
   ]
  },
  {
   "cell_type": "code",
   "execution_count": 10,
   "id": "742fe2eb-7518-4a40-99af-774db071000f",
   "metadata": {},
   "outputs": [
    {
     "name": "stdout",
     "output_type": "stream",
     "text": [
      "[2, 4]\n"
     ]
    }
   ],
   "source": [
    "def filter_odd_numbers(numbers):\n",
    "    return list(filter(lambda x: x % 2 == 0, numbers)) #returns even numbers\n",
    "\n",
    "print(filter_odd_numbers([1, 2, 3, 4, 5]))"
   ]
  },
  {
   "cell_type": "code",
   "execution_count": 12,
   "id": "9639a4f2-4fa4-469c-bd89-155d290526bd",
   "metadata": {},
   "outputs": [
    {
     "name": "stdout",
     "output_type": "stream",
     "text": [
      "[0, 1, 4, 9, 16]\n"
     ]
    }
   ],
   "source": [
    "squares = [x**2 for x in range(5)]\n",
    "print(squares)\n"
   ]
  },
  {
   "cell_type": "code",
   "execution_count": 14,
   "id": "e471263b-2adf-4a04-b63f-e74da4fb218a",
   "metadata": {},
   "outputs": [
    {
     "name": "stdout",
     "output_type": "stream",
     "text": [
      "Created 'test_folder'\n",
      "Pausing for 3 seconds...\n",
      "Deleted 'test_folder'\n"
     ]
    }
   ],
   "source": [
    "import os\n",
    "import time\n",
    "\n",
    "def file_operations():\n",
    "    os.makedirs(\"test_folder\", exist_ok=True) #makes a folder\n",
    "    print(\"Created 'test_folder'\")\n",
    "\n",
    "    print(\"Pausing for 3 seconds...\")\n",
    "    time.sleep(3)\n",
    "\n",
    "    os.rmdir(\"test_folder\") #removes or deletes the folder\n",
    "    print(\"Deleted 'test_folder'\")\n",
    "\n",
    "file_operations()\n"
   ]
  },
  {
   "cell_type": "code",
   "execution_count": 16,
   "id": "2768b063-cc38-421d-9dbc-7e8963921fc8",
   "metadata": {},
   "outputs": [
    {
     "name": "stdout",
     "output_type": "stream",
     "text": [
      "Paused execution...\n"
     ]
    }
   ],
   "source": [
    "from time import sleep as pause\n",
    "\n",
    "pause(2)\n",
    "print(\"Paused execution...\")"
   ]
  },
  {
   "cell_type": "code",
   "execution_count": 18,
   "id": "4d6b95f6-d478-4d02-999f-5bc64747e923",
   "metadata": {},
   "outputs": [
    {
     "name": "stdout",
     "output_type": "stream",
     "text": [
      "[1, 2, 3, 4, 5, 6]\n",
      "[1, 2, 3, 4, 5]\n"
     ]
    }
   ],
   "source": [
    "def flatten_list(*args):\n",
    "    flat_list = []\n",
    "    for arg in args:\n",
    "        if isinstance(arg, (list, tuple)):\n",
    "            flat_list.extend(flatten_list(*arg))\n",
    "        else:\n",
    "            flat_list.append(arg)\n",
    "    return flat_list\n",
    "\n",
    "print(flatten_list([1, [2, 3], [[4, 5], 6]]))\n",
    "print(flatten_list([[1, 2], [3, [4, [5]]]]))\n"
   ]
  },
  {
   "cell_type": "code",
   "execution_count": null,
   "id": "82b92048-25ed-4fcc-a76d-a3f7d876a0d7",
   "metadata": {},
   "outputs": [],
   "source": []
  }
 ],
 "metadata": {
  "kernelspec": {
   "display_name": "Python 3 (ipykernel)",
   "language": "python",
   "name": "python3"
  },
  "language_info": {
   "codemirror_mode": {
    "name": "ipython",
    "version": 3
   },
   "file_extension": ".py",
   "mimetype": "text/x-python",
   "name": "python",
   "nbconvert_exporter": "python",
   "pygments_lexer": "ipython3",
   "version": "3.12.4"
  }
 },
 "nbformat": 4,
 "nbformat_minor": 5
}
